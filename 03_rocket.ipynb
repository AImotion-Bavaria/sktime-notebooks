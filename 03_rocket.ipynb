{
  "nbformat": 4,
  "nbformat_minor": 0,
  "metadata": {
    "colab": {
      "name": "03_rocket.ipynb",
      "provenance": [],
      "collapsed_sections": []
    },
    "kernelspec": {
      "name": "python3",
      "display_name": "Python 3"
    },
    "language_info": {
      "name": "python"
    }
  },
  "cells": [
    {
      "cell_type": "code",
      "metadata": {
        "colab": {
          "base_uri": "https://localhost:8080/"
        },
        "id": "ZycfebGSEl3m",
        "outputId": "40c6e66a-e881-4add-87b5-f010eb3c120b"
      },
      "source": [
        "!pip install sktime\n",
        "import numpy as np\n",
        "import sklearn.ensemble as ensemble\n",
        "import sklearn.neighbors as neighbors\n",
        "import sklearn.gaussian_process as gp\n",
        "import sklearn.svm as svm\n",
        "import sklearn.neural_network as nn\n",
        "from sklearn.metrics import accuracy_score, confusion_matrix\n",
        "\n",
        "import time\n",
        "def readucr(filename):\n",
        "    data = np.loadtxt(filename, delimiter=\"\\t\")\n",
        "    y = data[:, 0]\n",
        "    x = data[:, 1:]\n",
        "    return x, y.astype(int)\n",
        "\n",
        "root_url = \"https://raw.githubusercontent.com/hfawaz/cd-diagram/master/FordA/\"\n",
        "\n",
        "x_train, y_train = readucr(root_url + \"FordA_TRAIN.tsv\")\n",
        "x_test, y_test = readucr(root_url + \"FordA_TEST.tsv\")\n",
        "\n",
        "y_train[y_train == -1] = 0\n",
        "y_test[y_test == -1] = 0\n",
        "\n",
        "# for the sktime interface to work, we need another dimension to indicate \n",
        "# that we have one feature \n",
        "X_train = np.expand_dims(x_train, axis = 1)\n",
        "X_test = np.expand_dims(x_test, axis=1)"
      ],
      "execution_count": 1,
      "outputs": [
        {
          "output_type": "stream",
          "text": [
            "Collecting sktime\n",
            "\u001b[?25l  Downloading https://files.pythonhosted.org/packages/be/47/1cdd9342586b1695397bc72b8602cac2f9af7a49e1b51ddb5452d23d99c9/sktime-0.6.1-cp37-cp37m-manylinux_2_17_x86_64.manylinux2014_x86_64.whl (5.7MB)\n",
            "\u001b[K     |████████████████████████████████| 5.7MB 26.9MB/s \n",
            "\u001b[?25hRequirement already satisfied: wheel in /usr/local/lib/python3.7/dist-packages (from sktime) (0.36.2)\n",
            "Requirement already satisfied: numba>=0.50 in /usr/local/lib/python3.7/dist-packages (from sktime) (0.51.2)\n",
            "Collecting statsmodels>=0.12.1\n",
            "\u001b[?25l  Downloading https://files.pythonhosted.org/packages/da/69/8eef30a6237c54f3c0b524140e2975f4b1eea3489b45eb3339574fc8acee/statsmodels-0.12.2-cp37-cp37m-manylinux1_x86_64.whl (9.5MB)\n",
            "\u001b[K     |████████████████████████████████| 9.5MB 32.8MB/s \n",
            "\u001b[?25hRequirement already satisfied: pandas>=1.1.0 in /usr/local/lib/python3.7/dist-packages (from sktime) (1.1.5)\n",
            "Collecting scikit-learn>=0.24.0\n",
            "\u001b[?25l  Downloading https://files.pythonhosted.org/packages/a8/eb/a48f25c967526b66d5f1fa7a984594f0bf0a5afafa94a8c4dbc317744620/scikit_learn-0.24.2-cp37-cp37m-manylinux2010_x86_64.whl (22.3MB)\n",
            "\u001b[K     |████████████████████████████████| 22.3MB 2.4MB/s \n",
            "\u001b[?25hRequirement already satisfied: numpy>=1.19.0 in /usr/local/lib/python3.7/dist-packages (from sktime) (1.19.5)\n",
            "Requirement already satisfied: llvmlite<0.35,>=0.34.0.dev0 in /usr/local/lib/python3.7/dist-packages (from numba>=0.50->sktime) (0.34.0)\n",
            "Requirement already satisfied: setuptools in /usr/local/lib/python3.7/dist-packages (from numba>=0.50->sktime) (57.0.0)\n",
            "Requirement already satisfied: scipy>=1.1 in /usr/local/lib/python3.7/dist-packages (from statsmodels>=0.12.1->sktime) (1.4.1)\n",
            "Requirement already satisfied: patsy>=0.5 in /usr/local/lib/python3.7/dist-packages (from statsmodels>=0.12.1->sktime) (0.5.1)\n",
            "Requirement already satisfied: python-dateutil>=2.7.3 in /usr/local/lib/python3.7/dist-packages (from pandas>=1.1.0->sktime) (2.8.1)\n",
            "Requirement already satisfied: pytz>=2017.2 in /usr/local/lib/python3.7/dist-packages (from pandas>=1.1.0->sktime) (2018.9)\n",
            "Collecting threadpoolctl>=2.0.0\n",
            "  Downloading https://files.pythonhosted.org/packages/f7/12/ec3f2e203afa394a149911729357aa48affc59c20e2c1c8297a60f33f133/threadpoolctl-2.1.0-py3-none-any.whl\n",
            "Requirement already satisfied: joblib>=0.11 in /usr/local/lib/python3.7/dist-packages (from scikit-learn>=0.24.0->sktime) (1.0.1)\n",
            "Requirement already satisfied: six in /usr/local/lib/python3.7/dist-packages (from patsy>=0.5->statsmodels>=0.12.1->sktime) (1.15.0)\n",
            "Installing collected packages: statsmodels, threadpoolctl, scikit-learn, sktime\n",
            "  Found existing installation: statsmodels 0.10.2\n",
            "    Uninstalling statsmodels-0.10.2:\n",
            "      Successfully uninstalled statsmodels-0.10.2\n",
            "  Found existing installation: scikit-learn 0.22.2.post1\n",
            "    Uninstalling scikit-learn-0.22.2.post1:\n",
            "      Successfully uninstalled scikit-learn-0.22.2.post1\n",
            "Successfully installed scikit-learn-0.24.2 sktime-0.6.1 statsmodels-0.12.2 threadpoolctl-2.1.0\n"
          ],
          "name": "stdout"
        }
      ]
    },
    {
      "cell_type": "code",
      "metadata": {
        "id": "NSZPzcNuFVAt",
        "colab": {
          "base_uri": "https://localhost:8080/"
        },
        "outputId": "95df99bf-3f40-46ab-cbcd-059ce60091eb"
      },
      "source": [
        "from sktime.classification.shapelet_based import ROCKETClassifier\n",
        "\n",
        "print(\"Trainiere ... ROCKET\")\n",
        "clf = ROCKETClassifier()\n",
        "clf.fit(X_train, y_train)\n",
        "\n",
        "predictions = clf.predict(X_test)\n",
        "accuracy = accuracy_score(y_test, predictions)\n",
        "conf_matrix = confusion_matrix(y_test, predictions)\n",
        "print(f\"Genauigkeit von ROCKET: {accuracy}\")\n",
        "print(conf_matrix)"
      ],
      "execution_count": 10,
      "outputs": [
        {
          "output_type": "stream",
          "text": [
            "Trainiere ... ROCKET\n",
            "Genauigkeit von ROCKET: 0.9462121212121212\n",
            "[[645  36]\n",
            " [ 35 604]]\n"
          ],
          "name": "stdout"
        }
      ]
    },
    {
      "cell_type": "code",
      "metadata": {
        "colab": {
          "base_uri": "https://localhost:8080/"
        },
        "id": "z3ZAnPAq-6Fy",
        "outputId": "156a46eb-0f67-4708-ea03-a6e08c142f77"
      },
      "source": [
        "# Mini Rockets\n",
        "from sktime.transformations.panel.rocket import MiniRocket\n",
        "from sklearn.linear_model import RidgeClassifierCV\n",
        "minirocket = MiniRocket()  # by default, MiniRocket uses ~10,000 kernels\n",
        "minirocket.fit(X_train)\n",
        "X_train_transform = minirocket.transform(X_train)\n",
        "clf = RidgeClassifierCV(alphas=np.logspace(-3, 3, 10), normalize=True)\n",
        "clf.fit(X_train_transform, y_train)\n",
        "X_test_transform = minirocket.transform(X_test)\n",
        "\n",
        "predictions = clf.predict(X_test_transform)\n",
        "accuracy = accuracy_score(y_test, predictions)\n",
        "conf_matrix = confusion_matrix(y_test, predictions)\n",
        "print(f\"Genauigkeit von Mini-ROCKET: {accuracy}\")\n",
        "print(conf_matrix)"
      ],
      "execution_count": 6,
      "outputs": [
        {
          "output_type": "stream",
          "text": [
            "Genauigkeit von Mini-ROCKET: 0.946969696969697\n",
            "[[651  30]\n",
            " [ 40 599]]\n"
          ],
          "name": "stdout"
        }
      ]
    },
    {
      "cell_type": "code",
      "metadata": {
        "colab": {
          "base_uri": "https://localhost:8080/"
        },
        "id": "Hv4Nxf4bA_64",
        "outputId": "5456e0d3-8cbd-4f91-8034-30e27e2de46f"
      },
      "source": [
        "print(X_train_transform.head())"
      ],
      "execution_count": 9,
      "outputs": [
        {
          "output_type": "stream",
          "text": [
            "    0      1      2      3      4     ...   9991   9992  9993  9994  9995\n",
            "0  0.346  0.830  0.074  0.532  0.980  ...  0.574  0.968  0.50  1.00  0.25\n",
            "1  0.370  0.836  0.082  0.540  0.958  ...  0.550  0.992  1.00  1.00  0.75\n",
            "2  0.340  0.864  0.058  0.540  0.970  ...  0.580  1.000  0.00  0.25  0.00\n",
            "3  0.374  0.832  0.068  0.534  0.940  ...  0.564  0.964  0.50  1.00  0.00\n",
            "4  0.356  0.814  0.114  0.526  0.930  ...  0.574  0.984  0.25  0.75  0.00\n",
            "\n",
            "[5 rows x 9996 columns]\n"
          ],
          "name": "stdout"
        }
      ]
    }
  ]
}